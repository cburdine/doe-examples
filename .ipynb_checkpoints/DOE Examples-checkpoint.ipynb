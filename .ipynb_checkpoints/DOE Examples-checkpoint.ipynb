{
 "cells": [
  {
   "cell_type": "markdown",
   "id": "e5dee79e",
   "metadata": {},
   "source": [
    "## Import Dependencies:"
   ]
  },
  {
   "cell_type": "code",
   "execution_count": 1,
   "id": "8e2bbf1c",
   "metadata": {},
   "outputs": [],
   "source": [
    "import numpy as np\n",
    "import matplotlib.pyplot as plt\n",
    "import pandas as pd"
   ]
  },
  {
   "cell_type": "code",
   "execution_count": 2,
   "id": "726db930",
   "metadata": {},
   "outputs": [],
   "source": [
    "FERTILIZER_VALUES = [1,2,3]\n",
    "WATER_VALUES = [40,60,80]"
   ]
  },
  {
   "cell_type": "code",
   "execution_count": 3,
   "id": "5ce2f9b8",
   "metadata": {},
   "outputs": [],
   "source": [
    "def experiment_model(fertilizer, water):\n",
    "    sunlight = np.random.normal(11,1.5)\n",
    "    return sunlight, 6 + 0.5*sunlight \\\n",
    "        + 10 / (1 + 0.005*(water - 90)**2) \\\n",
    "        + 50 / (1 + np.exp(-0.1*(fertilizer - 2)))    "
   ]
  },
  {
   "cell_type": "markdown",
   "id": "6a86868b",
   "metadata": {},
   "source": [
    "## Generate Data"
   ]
  },
  {
   "cell_type": "code",
   "execution_count": 4,
   "id": "fc40d5fb",
   "metadata": {},
   "outputs": [
    {
     "data": {
      "text/html": [
       "<div>\n",
       "<style scoped>\n",
       "    .dataframe tbody tr th:only-of-type {\n",
       "        vertical-align: middle;\n",
       "    }\n",
       "\n",
       "    .dataframe tbody tr th {\n",
       "        vertical-align: top;\n",
       "    }\n",
       "\n",
       "    .dataframe thead th {\n",
       "        text-align: right;\n",
       "    }\n",
       "</style>\n",
       "<table border=\"1\" class=\"dataframe\">\n",
       "  <thead>\n",
       "    <tr style=\"text-align: right;\">\n",
       "      <th></th>\n",
       "      <th>Fertilizer Type</th>\n",
       "      <th>Water (L/day)</th>\n",
       "      <th>Sunlight (hours/day)</th>\n",
       "      <th>Tree Height (m)</th>\n",
       "    </tr>\n",
       "  </thead>\n",
       "  <tbody>\n",
       "    <tr>\n",
       "      <th>0</th>\n",
       "      <td>1</td>\n",
       "      <td>40</td>\n",
       "      <td>13.45</td>\n",
       "      <td>37.22</td>\n",
       "    </tr>\n",
       "    <tr>\n",
       "      <th>1</th>\n",
       "      <td>1</td>\n",
       "      <td>60</td>\n",
       "      <td>13.16</td>\n",
       "      <td>38.15</td>\n",
       "    </tr>\n",
       "    <tr>\n",
       "      <th>2</th>\n",
       "      <td>1</td>\n",
       "      <td>80</td>\n",
       "      <td>10.85</td>\n",
       "      <td>41.84</td>\n",
       "    </tr>\n",
       "    <tr>\n",
       "      <th>3</th>\n",
       "      <td>2</td>\n",
       "      <td>40</td>\n",
       "      <td>9.56</td>\n",
       "      <td>36.52</td>\n",
       "    </tr>\n",
       "    <tr>\n",
       "      <th>4</th>\n",
       "      <td>2</td>\n",
       "      <td>60</td>\n",
       "      <td>11.00</td>\n",
       "      <td>38.32</td>\n",
       "    </tr>\n",
       "    <tr>\n",
       "      <th>5</th>\n",
       "      <td>2</td>\n",
       "      <td>80</td>\n",
       "      <td>13.72</td>\n",
       "      <td>44.53</td>\n",
       "    </tr>\n",
       "    <tr>\n",
       "      <th>6</th>\n",
       "      <td>3</td>\n",
       "      <td>40</td>\n",
       "      <td>9.89</td>\n",
       "      <td>37.93</td>\n",
       "    </tr>\n",
       "    <tr>\n",
       "      <th>7</th>\n",
       "      <td>3</td>\n",
       "      <td>60</td>\n",
       "      <td>10.97</td>\n",
       "      <td>39.55</td>\n",
       "    </tr>\n",
       "    <tr>\n",
       "      <th>8</th>\n",
       "      <td>3</td>\n",
       "      <td>80</td>\n",
       "      <td>10.36</td>\n",
       "      <td>44.10</td>\n",
       "    </tr>\n",
       "  </tbody>\n",
       "</table>\n",
       "</div>"
      ],
      "text/plain": [
       "   Fertilizer Type  Water (L/day)  Sunlight (hours/day)  Tree Height (m)\n",
       "0                1             40                 13.45            37.22\n",
       "1                1             60                 13.16            38.15\n",
       "2                1             80                 10.85            41.84\n",
       "3                2             40                  9.56            36.52\n",
       "4                2             60                 11.00            38.32\n",
       "5                2             80                 13.72            44.53\n",
       "6                3             40                  9.89            37.93\n",
       "7                3             60                 10.97            39.55\n",
       "8                3             80                 10.36            44.10"
      ]
     },
     "metadata": {},
     "output_type": "display_data"
    }
   ],
   "source": [
    "from itertools import product\n",
    "\n",
    "data_columns = [\n",
    "    'Fertilizer Type', \n",
    "    'Water (L/day)', \n",
    "    'Sunlight (hours/day)',\n",
    "    'Tree Height (m)'\n",
    "]\n",
    "\n",
    "data = []\n",
    "for (fertilizer,water) in product(FERTILIZER_VALUES, WATER_VALUES):\n",
    "    sunlight, result = experiment_model(fertilizer,water)\n",
    "    data.append((fertilizer,water,round(sunlight,2),round(result,2)))\n",
    "\n",
    "experiment_df = pd.DataFrame(data, columns=data_columns)\n",
    "display(experiment_df)"
   ]
  },
  {
   "cell_type": "code",
   "execution_count": 5,
   "id": "b69d1427",
   "metadata": {},
   "outputs": [],
   "source": [
    "DATASET_CSV_FILE = 'treefarm_dataset.csv'\n",
    "experiment_df.to_csv(DATASET_CSV_FILE)"
   ]
  },
  {
   "cell_type": "markdown",
   "id": "0188d2bb",
   "metadata": {},
   "source": [
    "## Linear Regression Analysis:"
   ]
  },
  {
   "cell_type": "code",
   "execution_count": 6,
   "id": "2169bf21",
   "metadata": {},
   "outputs": [],
   "source": [
    "w_is = []\n",
    "for i in FERTILIZER_VALUES:\n",
    "    df_i = experiment_df[experiment_df['Fertilizer Type'] == i]\n",
    "    X_i, y_i = df_i.iloc[:,1:3].values, df_i.iloc[:,3].values\n",
    "    X_i = np.hstack([X_i, np.ones((len(X_i),1)) ])\n",
    "    w_i = np.linalg.pinv(X_i) @ y_i\n",
    "    w_is.append(w_i)"
   ]
  },
  {
   "cell_type": "code",
   "execution_count": null,
   "id": "ba7a18c4",
   "metadata": {},
   "outputs": [],
   "source": [
    "water_vals = np.linspace(20,100,200)\n",
    "sunlight_mean = np.mean(experiment_df.iloc[:,2])\n",
    "sunlight_std = np.std(experiment_df.iloc[:,2])\n",
    "\n",
    "sigma = np.diag([0,sunlight_std**2,0])\n",
    "\n",
    "plt.figure()\n",
    "for i, w_i in zip(FERTILIZER_VALUES, w_is):\n",
    "    col = next(plt.gca()._get_lines.prop_cycler)['color']\n",
    "    X_i_eval = np.array([[w, sunlight_mean, 1] for w in water_vals])\n",
    "    y_i_mean = X_i_eval @ w_i\n",
    "    y_i_std = np.sqrt(w_i.T @ sigma @ w_i)\n",
    "        \n",
    "    df_i = experiment_df[experiment_df['Fertilizer Type'] == i]\n",
    "    \n",
    "    plt.scatter(df_i.iloc[:,1], df_i.iloc[:,3], label=f'Fertilizer {i}', color=col)\n",
    "    plt.fill_between(water_vals,y_i_mean+y_i_std,y_i_mean-y_i_std, \n",
    "                     color=col, alpha=0.3)\n",
    "    plt.plot(water_vals,y_i_mean, '--', color=col)\n",
    "\n",
    "plt.xlim((20,100))\n",
    "plt.grid()\n",
    "plt.plot([],[],'k--', alpha=0.4, label=r'Linear Fits ($\\pm$ std. dev.)')\n",
    "plt.legend()\n",
    "plt.show()"
   ]
  },
  {
   "cell_type": "code",
   "execution_count": null,
   "id": "3fcb1c2c",
   "metadata": {},
   "outputs": [],
   "source": [
    "plt.figure()\n",
    "for i, w_i in zip(FERTILIZER_VALUES, w_is):\n",
    "    col = next(plt.gca()._get_lines.prop_cycler)['color']\n",
    "    X_i_eval = np.array([[w, sunlight_mean, 1] for w in water_vals])\n",
    "    y_i_mean = X_i_eval @ w_i\n",
    "    y_i_std = np.sqrt(w_i.T @ sigma @ w_i)\n",
    "    df_i = experiment_df[experiment_df['Fertilizer Type'] == i]\n",
    "        \n",
    "    exact_heights = np.array([ \n",
    "        np.mean([experiment_model(i, w)[1] for _ in range(1000) ])\n",
    "        for w in water_vals \n",
    "    ])\n",
    "    \n",
    "    exact_height_stds = np.array([ \n",
    "        np.std([experiment_model(i, w)[1] for _ in range(1000) ])\n",
    "        for w in water_vals \n",
    "    ])\n",
    "    \n",
    "    X_i_eval = np.array([[w, sunlight_mean, 1] for w in water_vals])\n",
    "    y_i_mean = X_i_eval @ w_i\n",
    "    \n",
    "    plt.plot(water_vals,exact_heights, '-', color=col)\n",
    "    plt.fill_between(water_vals, \n",
    "                     exact_heights+exact_height_stds,\n",
    "                     exact_heights-exact_height_stds,\n",
    "                     alpha=0.5, label=f'Fertilizer {i} Distribution')\n",
    "    \n",
    "    plt.plot(water_vals, y_i_mean, '--', color=col)\n",
    "\n",
    "plt.plot([],[],'k--', alpha=0.4, label='Linear Fits')\n",
    "plt.xlim((20,100))\n",
    "plt.ylim((30,50))\n",
    "plt.grid()\n",
    "plt.legend()\n",
    "plt.show()"
   ]
  },
  {
   "cell_type": "markdown",
   "id": "d86ea1d1",
   "metadata": {},
   "source": [
    "## ANOVA Analysis"
   ]
  },
  {
   "cell_type": "code",
   "execution_count": null,
   "id": "c9bdd510",
   "metadata": {},
   "outputs": [],
   "source": [
    "# TODO"
   ]
  },
  {
   "cell_type": "markdown",
   "id": "ac6fb229",
   "metadata": {},
   "source": [
    "## Bayesian Modeling"
   ]
  },
  {
   "cell_type": "code",
   "execution_count": null,
   "id": "f959620c",
   "metadata": {},
   "outputs": [],
   "source": [
    "# TODO"
   ]
  }
 ],
 "metadata": {
  "kernelspec": {
   "display_name": "Python 3 (ipykernel)",
   "language": "python",
   "name": "python3"
  },
  "language_info": {
   "codemirror_mode": {
    "name": "ipython",
    "version": 3
   },
   "file_extension": ".py",
   "mimetype": "text/x-python",
   "name": "python",
   "nbconvert_exporter": "python",
   "pygments_lexer": "ipython3",
   "version": "3.10.6"
  }
 },
 "nbformat": 4,
 "nbformat_minor": 5
}
